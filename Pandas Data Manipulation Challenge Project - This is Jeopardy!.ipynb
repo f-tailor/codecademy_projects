{
 "cells": [
  {
   "cell_type": "markdown",
   "metadata": {},
   "source": [
    "# Panda Data Manipulation Challege Project - This is Jeopardy!\n",
    "\n",
    "### Project Goals\n",
    "You will work to write several functions that investigate a dataset of Jeopardy! questions and answers. Filter the dataset for topics that you’re interested in, compute the average difficulty of those questions, and train to become the next Jeopardy champion!\n",
    "\n",
    "Note that in order to make this project as “real-world” as possible, we haven’t modified the data at all — we’re giving it to you exactly how we found it. As a result, this data isn’t as “clean” as the datasets you normally find on Codecademy. More specifically, there’s something odd about the column names. After you figure out the problem with the column names, you may want to rename them to make your life easier the rest of the project."
   ]
  },
  {
   "cell_type": "code",
   "execution_count": 37,
   "metadata": {
    "scrolled": true
   },
   "outputs": [
    {
     "name": "stdout",
     "output_type": "stream",
     "text": [
      "   Show Number    Air Date      Round                         Category Value  \\\n",
      "0         4680  2004-12-31  Jeopardy!                          HISTORY  $200   \n",
      "1         4680  2004-12-31  Jeopardy!  ESPN's TOP 10 ALL-TIME ATHLETES  $200   \n",
      "2         4680  2004-12-31  Jeopardy!      EVERYBODY TALKS ABOUT IT...  $200   \n",
      "3         4680  2004-12-31  Jeopardy!                 THE COMPANY LINE  $200   \n",
      "4         4680  2004-12-31  Jeopardy!              EPITAPHS & TRIBUTES  $200   \n",
      "\n",
      "                                                                                                      Question  \\\n",
      "0             For the last 8 years of his life, Galileo was under house arrest for espousing this man's theory   \n",
      "1  No. 2: 1912 Olympian; football star at Carlisle Indian School; 6 MLB seasons with the Reds, Giants & Braves   \n",
      "2                     The city of Yuma in this state has a record average of 4,055 hours of sunshine each year   \n",
      "3                         In 1963, live on \"The Art Linkletter Show\", this company served its billionth burger   \n",
      "4     Signer of the Dec. of Indep., framer of the Constitution of Mass., second President of the United States   \n",
      "\n",
      "       Answer  \n",
      "0  Copernicus  \n",
      "1  Jim Thorpe  \n",
      "2     Arizona  \n",
      "3  McDonald's  \n",
      "4  John Adams  \n"
     ]
    }
   ],
   "source": [
    "import pandas as pd\n",
    "pd.set_option('display.max_colwidth', None)\n",
    "\n",
    "jeopardy = pd.read_csv(\"jeopardy.csv\")\n",
    "jeopardy.columns = [\"Show Number\", \"Air Date\", \"Round\", \"Category\", \"Value\", \"Question\", \"Answer\"]\n",
    "print(jeopardy.head())"
   ]
  },
  {
   "cell_type": "markdown",
   "metadata": {},
   "source": [
    "### Task 1\n",
    "Write a function that filters the dataset for questions that contains all of the words in a list of words. For example, when the list `[\"King\", \"England\"]` was passed to our function, the function returned a DataFrame of 152 rows. Every row had the strings `\"King\"` and `\"England\"` somewhere in its `\" Question\"`.\n",
    "\n",
    "Test your function by printing out the column containing the question of each row of the dataset."
   ]
  },
  {
   "cell_type": "code",
   "execution_count": 38,
   "metadata": {},
   "outputs": [
    {
     "name": "stdout",
     "output_type": "stream",
     "text": [
      "        Show Number    Air Date             Round               Category  \\\n",
      "4953           3003  1997-09-24  Double Jeopardy!           \"PH\"UN WORDS   \n",
      "6337           3517  1999-12-14  Double Jeopardy!                    Y1K   \n",
      "9191           3907  2001-09-04  Double Jeopardy!         WON THE BATTLE   \n",
      "11710          2903  1997-03-26  Double Jeopardy!       BRITISH MONARCHS   \n",
      "13454          4726  2005-03-07         Jeopardy!  A NUMBER FROM 1 TO 10   \n",
      "...             ...         ...               ...                    ...   \n",
      "208295         4621  2004-10-11         Jeopardy!            THE VIKINGS   \n",
      "208742         4863  2005-11-02  Double Jeopardy!         BEFORE & AFTER   \n",
      "213870         5856  2010-02-15  Double Jeopardy!                 URANUS   \n",
      "216021         1881  1992-11-09  Double Jeopardy!         HISTORIC NAMES   \n",
      "216789         5070  2006-09-29  Double Jeopardy!        ANCIENT HISTORY   \n",
      "\n",
      "         Value  \\\n",
      "4953      $200   \n",
      "6337      $800   \n",
      "9191      $800   \n",
      "11710     $600   \n",
      "13454    $1000   \n",
      "...        ...   \n",
      "208295    $600   \n",
      "208742  $3,000   \n",
      "213870   $1600   \n",
      "216021   $1000   \n",
      "216789   $1200   \n",
      "\n",
      "                                                                                                      Question  \\\n",
      "4953                  Both England's King George V & FDR put their stamp of approval on this \"King of Hobbies\"   \n",
      "6337    In retaliation for Viking raids, this \"Unready\" king of England attacks Norse areas of the Isle of Man   \n",
      "9191                  This king of England beat the odds to trounce the French in the 1415 Battle of Agincourt   \n",
      "11710             This Scotsman, the first Stuart king of England, was called \"The Wisest Fool in Christendom\"   \n",
      "13454                                     It's the number that followed the last king of England named William   \n",
      "...                                                                                                        ...   \n",
      "208295      In 1066 this great-great grandson of Rollo made what some call the last Viking invasion of England   \n",
      "208742                    Dutch-born king who ruled England jointly with Mary II & is a tasty New Zealand fish   \n",
      "213870              In 1781 William Herschel discovered Uranus & initially named it after this king of England   \n",
      "216021        His nickname was \"Bertie\", but he used this name & number when he became king of England in 1901   \n",
      "216789      This kingdom of England grew from 2 settlements, one founded around 495 by Cerdic & his son Cynric   \n",
      "\n",
      "                              Answer  \n",
      "4953    Philately (stamp collecting)  \n",
      "6337                        Ethelred  \n",
      "9191                         Henry V  \n",
      "11710                        James I  \n",
      "13454                              4  \n",
      "...                              ...  \n",
      "208295         William the Conqueror  \n",
      "208742      William of Orange roughy  \n",
      "213870                    George III  \n",
      "216021                    Edward VII  \n",
      "216789                        Wessex  \n",
      "\n",
      "[152 rows x 7 columns]\n"
     ]
    }
   ],
   "source": [
    "def filtered_questions(df, words):\n",
    "    filtered = lambda row: all(word.lower() in row.lower() for word in words)\n",
    "    return df.loc[df[\"Question\"].apply(filtered)]\n",
    "\n",
    "print(filtered_questions(jeopardy, [\"king\", \"england\"]))"
   ]
  },
  {
   "cell_type": "markdown",
   "metadata": {},
   "source": [
    "### Task 2\n",
    "We may want to eventually compute aggregate statistics, like `.mean()` on the `\" Value\"` column. But right now, the values in that column are strings. Convert the `\" Value\"` column to floats. If you’d like to, you can create a new column with the float values.\n",
    "\n",
    "Now that you can filter the dataset of question, use your new column that contains the float values of each question to find the “difficulty” of certain topics. For example, what is the average value of questions that contain the word `\"King\"`?\n",
    "\n",
    "Make sure to use the dataset that contains the float values as the dataset you use in your filtering function."
   ]
  },
  {
   "cell_type": "code",
   "execution_count": 39,
   "metadata": {},
   "outputs": [
    {
     "name": "stdout",
     "output_type": "stream",
     "text": [
      "        Show Number    Air Date             Round   Category    Value  \\\n",
      "150825         6246  2011-11-14  Double Jeopardy!  LANGUAGES  $18,000   \n",
      "195755         6217  2011-10-04  Double Jeopardy!     PLUS 8  $16,400   \n",
      "\n",
      "                                                                                                             Question  \\\n",
      "150825  Although Dutch is the official language, Sranan Tongo is spoken by most people in this South American country   \n",
      "195755                                                                   Number of days in a leap year times 2 plus 8   \n",
      "\n",
      "          Answer  Float_Value  \n",
      "150825  Suriname      18000.0  \n",
      "195755       740      16400.0  \n"
     ]
    }
   ],
   "source": [
    "jeopardy[\"Float_Value\"] = jeopardy.Value.apply(lambda x: float(x.replace(\",\",\"\").split(\"$\")[-1]) if x != \"None\" else float(0))\n",
    "\n",
    "# Filtering questions based on a given value\n",
    "print(jeopardy[jeopardy.Float_Value > 15000])"
   ]
  },
  {
   "cell_type": "code",
   "execution_count": 40,
   "metadata": {},
   "outputs": [
    {
     "name": "stdout",
     "output_type": "stream",
     "text": [
      "771.8833850722094\n"
     ]
    }
   ],
   "source": [
    "# Averarge value of questions that contain the word \"King\"\n",
    "print(filtered_questions(jeopardy, [\"king\"]).Float_Value.mean())"
   ]
  },
  {
   "cell_type": "markdown",
   "metadata": {},
   "source": [
    "### Task 3\n",
    "Write a function that returns the count of the unique answers to all of the questions in a dataset. For example, after filtering the entire dataset to only questions containing the word `\"King\"`, we could then find all of the unique answers to those questions."
   ]
  },
  {
   "cell_type": "code",
   "execution_count": 41,
   "metadata": {},
   "outputs": [
    {
     "name": "stdout",
     "output_type": "stream",
     "text": [
      "Henry VIII                  55\n",
      "Solomon                     35\n",
      "Richard III                 33\n",
      "Louis XIV                   31\n",
      "David                       30\n",
      "                            ..\n",
      "bee                          1\n",
      "blowholes                    1\n",
      "Los Angeles & Sacramento     1\n",
      "Jelly Roll Morton            1\n",
      "a wheelbarrow                1\n",
      "Name: Answer, Length: 5268, dtype: int64\n"
     ]
    }
   ],
   "source": [
    "def answer_count(df):\n",
    "    return df[\"Answer\"].value_counts()\n",
    "\n",
    "# Counting prevalence of answers after filtering questions by the word \"King\"\n",
    "print(answer_count(filtered_questions(jeopardy, [\"King\"])))"
   ]
  }
 ],
 "metadata": {
  "kernelspec": {
   "display_name": "Python 3",
   "language": "python",
   "name": "python3"
  },
  "language_info": {
   "codemirror_mode": {
    "name": "ipython",
    "version": 3
   },
   "file_extension": ".py",
   "mimetype": "text/x-python",
   "name": "python",
   "nbconvert_exporter": "python",
   "pygments_lexer": "ipython3",
   "version": "3.8.3"
  }
 },
 "nbformat": 4,
 "nbformat_minor": 4
}
