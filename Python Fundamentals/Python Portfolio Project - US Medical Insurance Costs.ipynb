{
 "cells": [
  {
   "cell_type": "markdown",
   "metadata": {},
   "source": [
    "# U.S. Medical Insurance Costs\n",
    "\n",
    "In this project a **csv** file with medical insurance costs will be analysed using Python fundamentals.The goal of this project will be to analyse various attributes within **insurance.csv** to learn more about the patient information in the file and gain insights into potential use cases for the dataset."
   ]
  },
  {
   "cell_type": "markdown",
   "metadata": {},
   "source": [
    "### Importing Modules\n",
    "\n",
    "I started off by importing the **csv** module to allow me to use the **.DictReader()** function to convert the data from the csv file into a Python dictionary object. I also imported the **peasonr()** function from **scipy.stats** to calculate the correlation coefficient later on."
   ]
  },
  {
   "cell_type": "code",
   "execution_count": 1,
   "metadata": {},
   "outputs": [],
   "source": [
    "import csv\n",
    "from scipy.stats import pearsonr"
   ]
  },
  {
   "cell_type": "markdown",
   "metadata": {},
   "source": [
    "### Opening the CSV File and Appending the Data into Lists\n",
    "\n",
    "Before opening the csv file, I created empty lists that correspond to each of the columns within the file. After opening the file, I converted it into a Python dictionary object using the **.DictReader()** function. I then called a for-loop to iterate through each row of data and append each column into the corresponding empty list."
   ]
  },
  {
   "cell_type": "code",
   "execution_count": 2,
   "metadata": {},
   "outputs": [],
   "source": [
    "ages = []\n",
    "sexes = []\n",
    "bmis = []\n",
    "num_children = []\n",
    "smokers = []\n",
    "regions = []\n",
    "total_charges = []"
   ]
  },
  {
   "cell_type": "code",
   "execution_count": 3,
   "metadata": {},
   "outputs": [],
   "source": [
    "with open(\"insurance.csv\", newline=\"\") as insurance_file:\n",
    "    insurance_data = csv.DictReader(insurance_file)\n",
    "    for row in insurance_data:\n",
    "        ages.append(int(row[\"age\"]))\n",
    "        sexes.append(row[\"sex\"])\n",
    "        bmis.append(float(row[\"bmi\"]))\n",
    "        num_children.append(int(row[\"children\"]))\n",
    "        smokers.append(row[\"smoker\"])\n",
    "        regions.append(row[\"region\"])\n",
    "        total_charges.append(float(row[\"charges\"]))"
   ]
  },
  {
   "cell_type": "markdown",
   "metadata": {},
   "source": [
    "### Calculating the Average, Minimum and Maximum Ages\n",
    "\n",
    "The first calculation I carried out was to find the average age of patients within the dataset. I also returned the maximum and minimum ages within the dataset. \n",
    "\n",
    "I set the initial value of the min_age variable to **float(\"inf\")** and max_age to **float(\"-inf\")**, as this would give set them to the highest and lowest values possible. In my for-loop I added the age of each patient to the sum_of_ages variable, then had two if statements to find the min and max age and set it to the respective variable. I also created a **num_patients** variable that I could use throughout my analysis."
   ]
  },
  {
   "cell_type": "code",
   "execution_count": 4,
   "metadata": {},
   "outputs": [],
   "source": [
    "num_patients = len(ages)\n",
    "\n",
    "sum_of_ages = 0\n",
    "min_age = float(\"inf\")\n",
    "max_age = float(\"-inf\")\n",
    "    \n",
    "for age in ages:\n",
    "    sum_of_ages += age\n",
    "    if age < min_age:\n",
    "        min_age = age\n",
    "    if age > max_age:\n",
    "        max_age = age\n",
    "    \n",
    "average_age = sum_of_ages / num_patients"
   ]
  },
  {
   "cell_type": "code",
   "execution_count": 5,
   "metadata": {},
   "outputs": [
    {
     "name": "stdout",
     "output_type": "stream",
     "text": [
      "The average age of patients in the dataset is 39. The oldest patient is 64 years old, whilst the youngest is 18 years old\n"
     ]
    }
   ],
   "source": [
    "print(\"The average age of patients in the dataset is {}. The oldest patient is {} years old, whilst the youngest is {} years old\".format(\n",
    "    \"%.f\" % average_age, max_age, min_age))"
   ]
  },
  {
   "cell_type": "markdown",
   "metadata": {},
   "source": [
    "### Calculating the Difference in Costs between Patients With and Without Children"
   ]
  },
  {
   "cell_type": "code",
   "execution_count": 6,
   "metadata": {},
   "outputs": [],
   "source": [
    "cost_children = zip(ages, num_children, total_charges)\n",
    "\n",
    "count_with_children = 0\n",
    "count_without_children = 0\n",
    "sum_cost_with_children = 0\n",
    "sum_cost_without_children = 0\n",
    "sum_age_with_children = 0\n",
    "sum_age_without_children = 0\n",
    "\n",
    "for patient in cost_children:\n",
    "    if patient[1] > 0:\n",
    "        count_with_children += 1\n",
    "        sum_age_with_children += patient[0]\n",
    "        sum_cost_with_children += patient[2]\n",
    "    else:\n",
    "        count_without_children += 1\n",
    "        sum_age_without_children += patient[0]\n",
    "        sum_cost_without_children += patient[2]\n",
    "        \n",
    "avg_age_with_children = sum_age_with_children / count_with_children\n",
    "avg_age_without_children = sum_age_without_children / count_without_children\n",
    "percent_with_children = (count_with_children / num_patients) * 100\n",
    "percent_without_children = (count_without_children / num_patients) * 100\n",
    "avg_cost_with_children = sum_cost_with_children / count_with_children\n",
    "avg_cost_without_children = sum_cost_without_children / count_without_children"
   ]
  },
  {
   "cell_type": "code",
   "execution_count": 7,
   "metadata": {
    "scrolled": true
   },
   "outputs": [
    {
     "name": "stdout",
     "output_type": "stream",
     "text": [
      "57.1% of patients in the dataset are parents. 42.9% have no children. \n",
      "That's 764 patients in the dataset with children and 574 patients without children.\n",
      "\n",
      "The average age of patients with children is 40. The average age of patients without children is 38.\n",
      "\n",
      "The average cost of insurance for patients with children is $13,949.94 and for those without children is $12,365.98.\n",
      "That's an extra $1,583.97 on average for patients with children.\n"
     ]
    }
   ],
   "source": [
    "print(\"\"\"{}% of patients in the dataset are parents. {}% have no children. \n",
    "That's {} patients in the dataset with children and {} patients without children.\n",
    "\n",
    "The average age of patients with children is {}. The average age of patients without children is {}.\n",
    "\n",
    "The average cost of insurance for patients with children is ${:,.2f} and for those without children is ${:,.2f}.\n",
    "That's an extra ${:,.2f} on average for patients with children.\"\"\".format(\n",
    "    \"%.1f\" % percent_with_children, \"%.1f\" % percent_without_children, \n",
    "    count_with_children, count_without_children, \n",
    "    \"%.f\" % avg_age_with_children, \"%.f\" % avg_age_without_children, \n",
    "    avg_cost_with_children, avg_cost_without_children, avg_cost_with_children - avg_cost_without_children))"
   ]
  },
  {
   "cell_type": "markdown",
   "metadata": {},
   "source": [
    "### Calculating the Difference in Costs between Smokers and Non-Smokers"
   ]
  },
  {
   "cell_type": "code",
   "execution_count": 8,
   "metadata": {},
   "outputs": [],
   "source": [
    "cost_smokers = zip(smokers, total_charges)\n",
    "\n",
    "count_of_smokers = smokers.count(\"yes\")\n",
    "count_of_non_smokers = smokers.count(\"no\")\n",
    "sum_cost_smokers = 0\n",
    "sum_cost_non_smokers = 0\n",
    "\n",
    "for patient in cost_smokers:\n",
    "    if patient[0] == \"yes\":\n",
    "        sum_cost_smokers += patient[1]\n",
    "    else:\n",
    "        sum_cost_non_smokers += patient[1]\n",
    "\n",
    "percent_smokers = (count_of_smokers / num_patients) * 100\n",
    "avg_cost_smokers = sum_cost_smokers / count_of_smokers\n",
    "avg_cost_non_smokers = sum_cost_non_smokers / count_of_non_smokers"
   ]
  },
  {
   "cell_type": "code",
   "execution_count": 9,
   "metadata": {},
   "outputs": [
    {
     "name": "stdout",
     "output_type": "stream",
     "text": [
      "20.5% of patients in the dataset are smokers.\n",
      "The average cost of insurance for smokers is $32,050.23 vs $8,434.27 for non-smokers.\n"
     ]
    }
   ],
   "source": [
    "print(\"\"\"{}% of patients in the dataset are smokers.\n",
    "The average cost of insurance for smokers is ${:,.2f} vs ${:,.2f} for non-smokers.\"\"\".format(\n",
    "    \"%.1f\" % percent_smokers, avg_cost_smokers, avg_cost_non_smokers))"
   ]
  },
  {
   "cell_type": "markdown",
   "metadata": {},
   "source": [
    "### Calculating the Difference in Costs between the Patient's Regions"
   ]
  },
  {
   "cell_type": "code",
   "execution_count": 10,
   "metadata": {},
   "outputs": [],
   "source": [
    "cost_region = zip(regions, total_charges)\n",
    "\n",
    "count_southwest = regions.count(\"southwest\")\n",
    "count_southeast = regions.count(\"southeast\")\n",
    "count_northwest = regions.count(\"northwest\")\n",
    "count_northeast = regions.count(\"northeast\")\n",
    "\n",
    "sum_cost_southwest = 0\n",
    "sum_cost_southeast = 0\n",
    "sum_cost_northwest = 0\n",
    "sum_cost_northeast = 0\n",
    "\n",
    "\n",
    "for patient in cost_region:\n",
    "    if patient[0] == \"southwest\":\n",
    "        sum_cost_southwest += patient[1]\n",
    "    elif patient[0] == \"southeast\":\n",
    "        sum_cost_southeast += patient[1]\n",
    "    elif patient[0] ==  \"northwest\":\n",
    "        sum_cost_northwest += patient[1]\n",
    "    else:\n",
    "        sum_cost_northeast += patient[1]\n",
    "\n",
    "avg_cost_southwest = sum_cost_southwest / count_southwest\n",
    "avg_cost_southeast = sum_cost_southeast / count_southeast\n",
    "avg_cost_northwest = sum_cost_northwest / count_northwest\n",
    "avg_cost_northeast = sum_cost_northeast / count_northeast"
   ]
  },
  {
   "cell_type": "code",
   "execution_count": 11,
   "metadata": {},
   "outputs": [
    {
     "name": "stdout",
     "output_type": "stream",
     "text": [
      "Count of patients in different regions and average insurance costs:\n",
      "Southwest: 325 patients. Average Insurance Cost: $12,346.94\n",
      "Southeast: 364 patients. Average Insurance Cost: $14,735.41\n",
      "Northwest: 325 patients. Average Insurance Cost: $12,417.58\n",
      "Northeast: 324 patients. Average Insurance Cost: $13,406.38\n"
     ]
    }
   ],
   "source": [
    "print(\"\"\"Count of patients in different regions and average insurance costs:\n",
    "Southwest: {} patients. Average Insurance Cost: ${:,.2f}\n",
    "Southeast: {} patients. Average Insurance Cost: ${:,.2f}\n",
    "Northwest: {} patients. Average Insurance Cost: ${:,.2f}\n",
    "Northeast: {} patients. Average Insurance Cost: ${:,.2f}\"\"\".format(\n",
    "     count_southwest, avg_cost_southwest, \n",
    "     count_southeast, avg_cost_southeast, \n",
    "     count_northwest, avg_cost_northwest, \n",
    "     count_northeast, avg_cost_northeast))"
   ]
  },
  {
   "cell_type": "markdown",
   "metadata": {},
   "source": [
    "### Calculating the Difference in Costs between the Sexes"
   ]
  },
  {
   "cell_type": "code",
   "execution_count": 12,
   "metadata": {},
   "outputs": [],
   "source": [
    "sex_cost = zip(ages, sexes, bmis, total_charges)\n",
    "\n",
    "count_males = sexes.count(\"male\")\n",
    "count_females = sexes.count(\"female\")\n",
    "sum_male_bmis = 0\n",
    "sum_female_bmis = 0\n",
    "sum_male_costs = 0\n",
    "sum_female_costs = 0\n",
    "sum_male_ages = 0\n",
    "sum_female_ages = 0\n",
    "\n",
    "for patient in sex_cost:\n",
    "    if patient[1] == \"male\":\n",
    "        sum_male_bmis += patient[2]\n",
    "        sum_male_costs += patient[3]\n",
    "        sum_male_ages += patient[0]\n",
    "    else:\n",
    "        sum_female_bmis += patient[2]\n",
    "        sum_female_costs += patient[3]\n",
    "        sum_female_ages += patient[0]\n",
    "\n",
    "avg_male_cost = sum_male_costs / count_males\n",
    "avg_female_cost = sum_female_costs / count_females\n",
    "avg_male_bmi = sum_male_bmis / count_males\n",
    "avg_female_bmi = sum_female_bmis / count_females\n",
    "avg_male_age = sum_male_ages / count_males\n",
    "avg_female_age = sum_female_ages / count_females"
   ]
  },
  {
   "cell_type": "code",
   "execution_count": 13,
   "metadata": {},
   "outputs": [
    {
     "name": "stdout",
     "output_type": "stream",
     "text": [
      "There are 676 males in the dataset and 662 females.\n",
      "\n",
      "The average insurance cost for males is $13,956.75\n",
      "The average insurance cost for females is $12,569.58\n",
      "\n",
      "The average BMI for males is 30.9\n",
      "The average BMI for females is 30.4\n",
      "\n",
      "The average age of male patients is 39\n",
      "The average age of female patients is 40\n"
     ]
    }
   ],
   "source": [
    "print(\"\"\"There are {} males in the dataset and {} females.\n",
    "\n",
    "The average insurance cost for males is ${:,.2f}\n",
    "The average insurance cost for females is ${:,.2f}\n",
    "\n",
    "The average BMI for males is {}\n",
    "The average BMI for females is {}\n",
    "\n",
    "The average age of male patients is {}\n",
    "The average age of female patients is {}\"\"\".format(\n",
    "    count_males, count_females,\n",
    "    avg_male_cost, avg_female_cost, \n",
    "    \"%.1f\" % avg_male_bmi, \"%.1f\" % avg_female_bmi,\n",
    "    \"%.f\" % avg_male_age, \"%.f\" % avg_female_age\n",
    "    ))"
   ]
  },
  {
   "cell_type": "markdown",
   "metadata": {},
   "source": [
    "### Correlation between Insurance Costs and Age, Sex, BMI, Number of Children and Smoker Status \n",
    "\n",
    "The Pearson correlation coefficient measures the strength of the linear relationship between two datasets.\n",
    "\n",
    "To carry out the correlation on smoker status and sex, I first had to change these to binary numerical values. For smoker status, 1 = smoker, 0 = non-smoker. For sex, 1 = male, 0 = female.\n",
    "\n",
    "I used the **scipy.stats.pearsonr** function to calculate the correlation coefficient between the Insurance Costs and the  patients age, sex, BMI, the number of children they have and their smoker status. \n",
    "\n",
    "The results show there is a strong positive correlation between smoker status and insurance cost (i.e. smoking leads to higher insurance costs). The results show a weak positive correlation between insurance cost and a patient's age and BMI. The results show there is no correlation between the cost of insurance and the number of children a patient has or their sex."
   ]
  },
  {
   "cell_type": "code",
   "execution_count": 14,
   "metadata": {},
   "outputs": [],
   "source": [
    "smokers_numeric = []\n",
    "sexes_numeric = []\n",
    "\n",
    "for smoker in smokers:\n",
    "    if smoker == \"yes\":\n",
    "        smokers_numeric.append(1)\n",
    "    else:\n",
    "        smokers_numeric.append(0)\n",
    "        \n",
    "for sex in sexes:\n",
    "    if sex == \"male\":\n",
    "        sexes_numeric.append(1)\n",
    "    else:\n",
    "        sexes_numeric.append(0)\n",
    "        \n",
    "age_cost_correlation, _ = pearsonr(ages, total_charges)\n",
    "sex_cost_correlation, _ = pearsonr(sexes_numeric, total_charges)\n",
    "bmis_cost_correlation, _ = pearsonr(bmis, total_charges)\n",
    "num_children_cost_correlation, _ = pearsonr(num_children, total_charges)\n",
    "smoker_cost_correlation, _ = pearsonr(smokers_numeric, total_charges)"
   ]
  },
  {
   "cell_type": "code",
   "execution_count": 15,
   "metadata": {},
   "outputs": [
    {
     "name": "stdout",
     "output_type": "stream",
     "text": [
      "The pearson correlation coeffiecents for Insurance Cost vs:\n",
      "Age is 0.299\n",
      "Sex is 0.057\n",
      "BMI is 0.198\n",
      "Number of Children is 0.068\n",
      "Smoker Status is 0.787\n"
     ]
    }
   ],
   "source": [
    "print(\"\"\"The pearson correlation coeffiecents for Insurance Cost vs:\n",
    "Age is {}\n",
    "Sex is {}\n",
    "BMI is {}\n",
    "Number of Children is {}\n",
    "Smoker Status is {}\"\"\".format(\n",
    "    \"%.3f\" % age_cost_correlation, \"%.3f\" % sex_cost_correlation, \"%.3f\" % bmis_cost_correlation, \n",
    "    \"%.3f\" % num_children_cost_correlation, \"%.3f\" % smoker_cost_correlation))"
   ]
  }
 ],
 "metadata": {
  "kernelspec": {
   "display_name": "Python 3",
   "language": "python",
   "name": "python3"
  },
  "language_info": {
   "codemirror_mode": {
    "name": "ipython",
    "version": 3
   },
   "file_extension": ".py",
   "mimetype": "text/x-python",
   "name": "python",
   "nbconvert_exporter": "python",
   "pygments_lexer": "ipython3",
   "version": "3.8.3"
  }
 },
 "nbformat": 4,
 "nbformat_minor": 4
}
